{
 "cells": [
  {
   "cell_type": "code",
   "execution_count": 1,
   "metadata": {},
   "outputs": [],
   "source": [
    "import numpy as np\n",
    "import matplotlib.pyplot as plt\n",
    "import scienceplots\n",
    "from numba import njit,jit,prange,set_num_threads\n",
    "import time\n",
    "import evtk"
   ]
  },
  {
   "cell_type": "code",
   "execution_count": 6,
   "metadata": {},
   "outputs": [],
   "source": [
    "# grid generation\n",
    "delX = 0.2\n",
    "delY = 0.04\n",
    "x_max = 20\n",
    "y_max = 2\n",
    "x_grid = np.arange(0,x_max+delX,delX)\n",
    "y_grid = np.arange(0,y_max+delY,delY)\n",
    "Nx = len(x_grid)\n",
    "Ny = len(y_grid)\n",
    "\n",
    "grid_spacing = min(delX,delY)\n",
    "\n",
    "beta = delX/delY\n",
    "maxCo = 0.5\n",
    "delT = maxCo * grid_spacing/1.5\n",
    "Re = 200"
   ]
  },
  {
   "cell_type": "code",
   "execution_count": 7,
   "metadata": {},
   "outputs": [],
   "source": [
    "def parabolic_vel_profile(y_tilda):\n",
    "    temp = (y_tilda - 1.5)**2\n",
    "    u_tilda = 1.5 - 6*temp\n",
    "    return u_tilda"
   ]
  },
  {
   "cell_type": "code",
   "execution_count": 8,
   "metadata": {},
   "outputs": [],
   "source": [
    "def func_uStar(u_old,v_old):\n",
    "    u_Star = np.copy(u_old)\n",
    "    for j in range(0,Ny-1): #All the nodal values need to be estimated\n",
    "        for i in range(0,Nx-2): #Two boundary nodes are removed [control volume is written for uP = u[j,i+1]]\n",
    "            uE = u_old[j,i+2]\n",
    "            uP = u_old[j,i+1]\n",
    "            uW = u_old[j,i]\n",
    "            if(j!=0):\n",
    "                uS = u_old[j-1,i+1]\n",
    "            else:\n",
    "                uS = 0 #vs will be zero due to no slip. So no need to calculate uS explicitly. dudy_s is sufficient\n",
    "            if(j!=Ny-2):\n",
    "                uN = u_old[j+1,i+1]\n",
    "            else:\n",
    "                uN=0 #vn will be zero due to no slip. Hence dudy_n is sufficient\n",
    "            uw = 0.5*(uW+uP)\n",
    "            ue = 0.5*(uP+uE)\n",
    "\n",
    "            vn = 0.5*(v_old[j+1,i]+v_old[j+1,i+1])\n",
    "            vs = 0.5*(v_old[j,i]+v_old[j,i+1])\n",
    "\n",
    "            dudx_e = (uE-uP)/delX\n",
    "            dudx_w = (uP-uW)/delX\n",
    "            \n",
    "            if(j!=0):\n",
    "                dudy_s = (uP-uS)/delY\n",
    "            else:\n",
    "                dudy_s = (9*uP - uN)/(3*delY)\n",
    "                \n",
    "            if(j!=Ny-2):\n",
    "                dudy_n = (uN-uP)/delY\n",
    "            else:\n",
    "                dudy_n = (uS-9*uP)/(3*delY)\n",
    "            \n",
    "\n",
    "            #Upwinding the convection term to make the scheme stable. CS is not a stable scheme for convection\n",
    "            uw_uw = 0.5*(np.abs(uw)+uw)*uW - 0.5*(np.abs(uw)-uw)*uP\n",
    "            ue_ue = 0.5*(np.abs(ue)+ue)*uP - 0.5*(np.abs(ue)-ue)*uE\n",
    "\n",
    "            us_vs = 0.5*(np.abs(vs)+vs)*uS - 0.5*(np.abs(vs)-vs)*uP\n",
    "            un_vn = 0.5*(np.abs(vn)+vn)*uP - 0.5*(np.abs(vn)-vn)*uN\n",
    "\n",
    "            #Assembling all together\n",
    "            term_1 = (uw_uw-ue_ue)/delX\n",
    "            term_2 = (us_vs - un_vn)/delY\n",
    "            term_3 = (dudx_e-dudx_w)/delX\n",
    "            term_4 = (dudy_n-dudy_s)/delY\n",
    "\n",
    "            Ru = term_1 + term_2 + (term_3 + term_4)/Re\n",
    "            u_Star[j,i+1] = u_old[j,i+1] + delT*Ru #delT is the relaxation factor for updation\n",
    "    return u_Star"
   ]
  },
  {
   "cell_type": "code",
   "execution_count": 9,
   "metadata": {},
   "outputs": [],
   "source": [
    "def func_vStar(u_old,v_old):\n",
    "    v_Star = np.copy(v_old)\n",
    "    for j in range(0,Ny-2):\n",
    "        for i in range(0,Nx-1):\n",
    "            vP = v_old[j+1,i]\n",
    "            vN = v_old[j+2,i]\n",
    "            vS = v_old[j,i]\n",
    "            \n",
    "            if(i!=0):\n",
    "                vW = v_old[j+1,i-1]\n",
    "            else: #uw will be zero and the flow at inlet is uni-directional. So vW is zero\n",
    "                vW = 0\n",
    "            \n",
    "            if(i!=Nx-2):\n",
    "                vE = v_old[j+1,i+1]\n",
    "            else:\n",
    "                vE = vP\n",
    "            \n",
    "            uw = 0.5*(u_old[j+1,i]+u_old[j,i])\n",
    "            ue = 0.5*(u_old[j+1,i+1]+u_old[j,i+1])\n",
    "            \n",
    "            vn = 0.5*(vN+vP)\n",
    "            vs = 0.5*(vP+vS)\n",
    "            \n",
    "            #upwinding for convective flux to achieve satbility\n",
    "            uw_vw = 0.5*(np.abs(uw)+uw)*vW - 0.5*(np.abs(uw)-uw)*vP\n",
    "            ue_ve = 0.5*(np.abs(ue)+ue)*vP - 0.5*(np.abs(ue)-ue)*vE\n",
    "            \n",
    "            vs_vs = 0.5*(np.abs(vs)+vs)*vS - 0.5*(np.abs(vs)-vs)*vP\n",
    "            vn_vn = 0.5*(np.abs(vn)+vn)*vP - 0.5*(np.abs(vn)-vn)*vN\n",
    "            \n",
    "            #diffusive fluxes\n",
    "            dvdx_e = (vE-vP)/delX\n",
    "            dvdx_w = (vP-vW)/delX\n",
    "            dvdy_n = (vN-vP)/delY\n",
    "            dvdy_s = (vP-vS)/delY\n",
    "            \n",
    "            #putting all together\n",
    "            term_1 = (uw_vw-ue_ve)/delX\n",
    "            term_2 = (vs_vs-vn_vn)/delY\n",
    "            term_3 = (dvdx_e-dvdx_w)/delX\n",
    "            term_4 = (dvdy_n-dvdy_s)/delY\n",
    "            \n",
    "            Rv = term_1+term_2+(term_3+term_4)/Re\n",
    "            v_Star[j+1,i] = v_old[j+1,i]+delT*Rv\n",
    "    return v_Star"
   ]
  },
  {
   "cell_type": "code",
   "execution_count": 10,
   "metadata": {},
   "outputs": [],
   "source": [
    "@njit\n",
    "def func_tdma(a,b,c,d):\n",
    "    n = len(d)\n",
    "#     a, b, c, d = map(np.array, (a, b, c, d))\n",
    "    a = np.copy(a)\n",
    "    b = np.copy(b)\n",
    "    c = np.copy(c)\n",
    "    d = np.copy(d)\n",
    "    for i in range(1,n):\n",
    "        b[i] = b[i] - c[i-1]*(a[i]/b[i-1])\n",
    "        d[i] = d[i] - d[i-1]*(a[i]/b[i-1])\n",
    "    out = np.zeros_like(d)\n",
    "    out[n-1] = d[n-1]/b[n-1]\n",
    "    j=n-2\n",
    "    while(j>=0):\n",
    "        out[j] = (d[j] - c[j]*out[j+1])/b[j]\n",
    "        j=j-1\n",
    "    return out"
   ]
  },
  {
   "cell_type": "code",
   "execution_count": 11,
   "metadata": {},
   "outputs": [],
   "source": [
    "#Convergence check for ADI\n",
    "@njit(parallel=True)\n",
    "def func_checkConvergence_ADI(pk,pk_1):\n",
    "    yp = np.shape(pk)[0]#no. of rows. iterate along 'y' axis\n",
    "    xp = np.shape(pk)[1]#no. of columns. iterate along 'x' axis\n",
    "    error=0.0 \n",
    "    p_sum = 0.0\n",
    "    for j in prange(yp): #only the interior nodes to be checked \n",
    "        for i in range(xp):\n",
    "            error+=np.abs(pk_1[j,i]-pk[j,i])\n",
    "            p_sum +=np.abs(pk[j,i])\n",
    "    rel_err = error/(p_sum+1e-10) #Added a very small number to avoid divide by zero error\n",
    "    return rel_err"
   ]
  },
  {
   "cell_type": "code",
   "execution_count": 12,
   "metadata": {},
   "outputs": [],
   "source": [
    "@njit(parallel=True)\n",
    "def func_RHS_ADI(u_star,v_star):\n",
    "    rhs = np.zeros((Ny-1,Nx-1))\n",
    "    for j in prange(Ny-1):\n",
    "        for i in range(Nx-1):\n",
    "            rhs[j,i] = (u_star[j,i+1]-u_star[j,i])/delX + (v_star[j+1,i]-v_star[j,i])/delY\n",
    "    rhs = rhs * (delX**2)/delT\n",
    "    return rhs"
   ]
  },
  {
   "cell_type": "code",
   "execution_count": 13,
   "metadata": {},
   "outputs": [],
   "source": [
    "@njit(parallel=True)\n",
    "def func_ADI(p_init,u_star,v_star):\n",
    "    p_var = np.copy(p_init)\n",
    "    rhs = func_RHS_ADI(u_star,v_star)\n",
    "    \n",
    "    converged_ADI = False\n",
    "    iteration = 0\n",
    "    b_x = np.zeros(Nx-1)\n",
    "    a_x = np.zeros_like(b_x)\n",
    "    c_x = np.zeros_like(b_x)\n",
    "    \n",
    "    a_x[:] = 1\n",
    "    b_x[:] = -2*(1+beta**2)\n",
    "    c_x[:] = 1\n",
    "    \n",
    "    b_y = np.zeros(Ny-1)\n",
    "    a_y = np.zeros_like(b_y)\n",
    "    c_y = np.zeros_like(b_y)\n",
    "    \n",
    "    a_y[:] = beta**2\n",
    "    b_y[:] = -2*(1+beta**2)\n",
    "    c_y[:] = beta**2\n",
    "    \n",
    "    while(not converged_ADI):\n",
    "        #x-sweep\n",
    "        p_var[0,0] = 0\n",
    "        \n",
    "        for row in prange(Ny-1):\n",
    "            d_x = np.zeros_like(b_x)\n",
    "            for col in range(0,Nx-1):\n",
    "                if(row!=0): #For the bottom row, no nodes exist to the south\n",
    "                    p_bottom = p_var[row-1,col]\n",
    "                else: #gradient is zero\n",
    "                    p_bottom = p_var[0,col]\n",
    "                if(row!=Ny-2): #Similarly no node at north for the top cell\n",
    "                    p_top = p_var[row+1,col]\n",
    "                else:\n",
    "                    p_top = p_var[-1,col]\n",
    "                d_x[col] = rhs[row,col] - np.power(beta,2)*(p_top+p_bottom)\n",
    "            d_x[0] = d_x[0] - p_var[row,0]\n",
    "            d_x[-1] = d_x[-1] - p_var[row,-1]\n",
    "            result_x = func_tdma(a_x,b_x,c_x,d_x)\n",
    "            p_var[row,:] = result_x\n",
    "\n",
    "        #y-sweep\n",
    "\n",
    "        for col in prange(Nx-1):\n",
    "            d_y = np.zeros_like(b_y)\n",
    "            for row in range(0,Ny-1):\n",
    "                if(col!=0):\n",
    "                    p_left = p_var[row,col-1]\n",
    "                else:\n",
    "                    p_left = p_var[row,0]\n",
    "                if(col!=Nx-2):\n",
    "                    p_right = p_var[row,col+1]\n",
    "                else:\n",
    "                    p_right = p_var[row,-1]\n",
    "                d_y[row] = rhs[row,col] - (p_left + p_right)\n",
    "            d_y[0] = d_y[0] - np.power(beta,2)*(p_var[0,col])\n",
    "            d_y[-1] = d_y[-1] - np.power(beta,2)*(p_var[-1,col])\n",
    "            result_y = func_tdma(a_y,b_y,c_y,d_y)\n",
    "            p_var[:,col] = result_y\n",
    "            \n",
    "        #check convergence of ADI:\n",
    "        error_ADI = func_checkConvergence_ADI(p_init,p_var)\n",
    "        iteration+=1\n",
    "        if(error_ADI<1e-3):\n",
    "            converged_ADI = True\n",
    "#             print(\"ADI converged\")\n",
    "#             print(iteration)\n",
    "#             print(error_ADI)\n",
    "        else:\n",
    "#             if(iteration%100 == 0):\n",
    "#                 print(f\"Pressure Equation: Iteration {iteration}: Residual = {error_ADI}\")\n",
    "            p_init = np.copy(p_var)\n",
    "    return p_var\n",
    "    "
   ]
  },
  {
   "cell_type": "code",
   "execution_count": 14,
   "metadata": {},
   "outputs": [],
   "source": [
    "def func_u_v_update(uStar,vstar,pressure):\n",
    "    u_np1 = np.copy(uStar)\n",
    "    v_np1 = np.copy(vStar)\n",
    "    \n",
    "    for i in range(0,Nx-2):\n",
    "        for j in range(0,Ny-1):\n",
    "            u_np1[j,i+1] = uStar[j,i+1] - (delT/delX)*(pressure[j,i+1] - pressure[j,i])\n",
    "        \n",
    "    for i in range(0,Nx-1):\n",
    "        for j in range(0,Ny-2):\n",
    "            v_np1[j+1,i] = vStar[j+1,i] - (delT/delY)*(pressure[j+1,i] - pressure[j,i])\n",
    "            \n",
    "    return u_np1,v_np1\n",
    "        "
   ]
  },
  {
   "cell_type": "markdown",
   "metadata": {},
   "source": [
    "Algorithm - NS equation"
   ]
  },
  {
   "cell_type": "code",
   "execution_count": 15,
   "metadata": {},
   "outputs": [],
   "source": [
    "#Variable creation\n",
    "u_init = np.zeros((Ny-1,Nx))#rows by columns\n",
    "v_init = np.zeros((Ny,Nx-1))\n",
    "p_init = np.zeros((Ny-1,Nx-1))"
   ]
  },
  {
   "cell_type": "code",
   "execution_count": 16,
   "metadata": {},
   "outputs": [],
   "source": [
    "#assigning BC\n",
    "loc_inlet = 0 # variable for identifying where the inlet begins.\n",
    "for j in range(0,Ny-1):\n",
    "    if(y_grid[j]>=1.0):\n",
    "        u_init[j,0] = parabolic_vel_profile(y_grid[j]+delY/2)\n",
    "        if(loc_inlet==0):\n",
    "            loc_inlet = j #node number at which the inlet begins"
   ]
  },
  {
   "cell_type": "code",
   "execution_count": 17,
   "metadata": {
    "scrolled": true
   },
   "outputs": [
    {
     "name": "stdout",
     "output_type": "stream",
     "text": [
      "Momentum equation: Iteration 20, Residual: 0.021015041964017926\n",
      "Momentum equation: Iteration 40, Residual: 0.009637666550468216\n",
      "Momentum equation: Iteration 60, Residual: 0.007613592369505318\n",
      "Momentum equation: Iteration 80, Residual: 0.006508821498738548\n",
      "Momentum equation: Iteration 100, Residual: 0.00571826231683048\n",
      "Momentum equation: Iteration 120, Residual: 0.00509566409241724\n",
      "Momentum equation: Iteration 140, Residual: 0.004618442799505296\n",
      "Momentum equation: Iteration 160, Residual: 0.004220367993029495\n",
      "Momentum equation: Iteration 180, Residual: 0.0038892706556755696\n",
      "Momentum equation: Iteration 200, Residual: 0.003749131574631746\n",
      "Momentum equation: Iteration 220, Residual: 0.0035932626415818673\n",
      "Momentum equation: Iteration 240, Residual: 0.003494870925706245\n",
      "Momentum equation: Iteration 260, Residual: 0.0033945760680532677\n",
      "Momentum equation: Iteration 280, Residual: 0.0031332181761190535\n",
      "Momentum equation: Iteration 300, Residual: 0.0029931581992343054\n",
      "Momentum equation: Iteration 320, Residual: 0.00281340198446213\n",
      "Momentum equation: Iteration 340, Residual: 0.0025806464280082875\n",
      "Momentum equation: Iteration 360, Residual: 0.002428110119409327\n",
      "Momentum equation: Iteration 380, Residual: 0.00222219963521586\n",
      "Momentum equation: Iteration 400, Residual: 0.002075036241832133\n",
      "Momentum equation: Iteration 420, Residual: 0.0018912617864736553\n",
      "Momentum equation: Iteration 440, Residual: 0.00175509993724407\n",
      "Momentum equation: Iteration 460, Residual: 0.0017062926209818752\n",
      "Momentum equation: Iteration 480, Residual: 0.0016624327155818353\n",
      "Momentum equation: Iteration 500, Residual: 0.0016038651046484942\n",
      "Momentum equation: Iteration 520, Residual: 0.0015645548835568623\n",
      "Momentum equation: Iteration 540, Residual: 0.0015032261339772701\n",
      "Momentum equation: Iteration 560, Residual: 0.0014666770317839084\n",
      "Momentum equation: Iteration 580, Residual: 0.0014074749720324742\n",
      "Momentum equation: Iteration 600, Residual: 0.0013716199374293747\n",
      "Momentum equation: Iteration 620, Residual: 0.0013151236855565296\n",
      "Momentum equation: Iteration 640, Residual: 0.001279801403076014\n",
      "Momentum equation: Iteration 660, Residual: 0.0012268590962229292\n",
      "Momentum equation: Iteration 680, Residual: 0.0011919107981165633\n",
      "Momentum equation: Iteration 700, Residual: 0.0011478016720247175\n",
      "Momentum equation: Iteration 720, Residual: 0.0011085516895197045\n",
      "Momentum equation: Iteration 740, Residual: 0.00107054915725599\n",
      "Momentum equation: Iteration 760, Residual: 0.0010287374982582143\n",
      "Momentum equation: Iteration 780, Residual: 0.0009982346872152992\n",
      "Momentum equation: Iteration 800, Residual: 0.0009626098892412255\n",
      "Momentum equation: Iteration 820, Residual: 0.0009304316766489962\n",
      "Momentum equation: Iteration 840, Residual: 0.0009008431903961833\n",
      "Momentum equation: Iteration 860, Residual: 0.0008665377697169158\n",
      "Momentum equation: Iteration 880, Residual: 0.000842449795444844\n",
      "Momentum equation: Iteration 900, Residual: 0.0008164310355865401\n",
      "Momentum equation: Iteration 920, Residual: 0.0007854804644946145\n",
      "Momentum equation: Iteration 940, Residual: 0.0007652611675160598\n",
      "Momentum equation: Iteration 960, Residual: 0.0007434039042963081\n",
      "Momentum equation: Iteration 980, Residual: 0.0007174565623362661\n",
      "Momentum equation: Iteration 1000, Residual: 0.0006974008808409288\n",
      "Momentum equation: Iteration 1020, Residual: 0.0006806353894320133\n",
      "Momentum equation: Iteration 1040, Residual: 0.0006570667632266047\n",
      "Momentum equation: Iteration 1060, Residual: 0.0006417167147644842\n",
      "Momentum equation: Iteration 1080, Residual: 0.0006262712373476947\n",
      "Momentum equation: Iteration 1100, Residual: 0.0006057105024791648\n",
      "Momentum equation: Iteration 1120, Residual: 0.0005952839188593795\n",
      "Momentum equation: Iteration 1140, Residual: 0.0005798430198503818\n",
      "Momentum equation: Iteration 1160, Residual: 0.0005666915044023335\n",
      "Momentum equation: Iteration 1180, Residual: 0.0005520893145630756\n",
      "Momentum equation: Iteration 1200, Residual: 0.0005423994612090977\n",
      "Momentum equation: Iteration 1220, Residual: 0.0005258316467180724\n",
      "Momentum equation: Iteration 1240, Residual: 0.0005153201579884484\n",
      "Momentum equation: Iteration 1260, Residual: 0.00051396782443619\n",
      "Momentum equation: Iteration 1280, Residual: 0.0004988685818363217\n",
      "Momentum equation: Iteration 1300, Residual: 0.000492604691207231\n",
      "Momentum equation: Iteration 1320, Residual: 0.0004916259721357216\n",
      "Momentum equation: Iteration 1340, Residual: 0.00048823765799434204\n",
      "Momentum equation: Iteration 1360, Residual: 0.00046900329009964044\n",
      "Momentum equation: Iteration 1380, Residual: 0.000463170297297537\n",
      "Momentum equation: Iteration 1400, Residual: 0.00045880854659523067\n",
      "Momentum equation: Iteration 1420, Residual: 0.0004547598320625845\n",
      "Momentum equation: Iteration 1440, Residual: 0.0004532481284193757\n",
      "Momentum equation: Iteration 1460, Residual: 0.00045056813420053105\n",
      "Momentum equation: Iteration 1480, Residual: 0.00043516217864326967\n",
      "Momentum equation: Iteration 1500, Residual: 0.0004351554272468451\n",
      "Momentum equation: Iteration 1520, Residual: 0.00043312863772239363\n",
      "Momentum equation: Iteration 1540, Residual: 0.00042766646443267303\n",
      "Momentum equation: Iteration 1560, Residual: 0.0004122831439810218\n",
      "Momentum equation: Iteration 1580, Residual: 0.00040198009619881207\n",
      "Momentum equation: Iteration 1600, Residual: 0.00040207693500019133\n",
      "Momentum equation: Iteration 1620, Residual: 0.0003977070227126518\n",
      "Momentum equation: Iteration 1640, Residual: 0.00039467740124581735\n",
      "Momentum equation: Iteration 1660, Residual: 0.0003916413052472839\n",
      "Momentum equation: Iteration 1680, Residual: 0.00038864733201198626\n",
      "Momentum equation: Iteration 1700, Residual: 0.0003760673866424827\n",
      "Momentum equation: Iteration 1720, Residual: 0.00037539241650175886\n",
      "Momentum equation: Iteration 1740, Residual: 0.00036978773368672585\n",
      "Momentum equation: Iteration 1760, Residual: 0.00036351707723354665\n",
      "Momentum equation: Iteration 1780, Residual: 0.00035683768677438263\n",
      "Momentum equation: Iteration 1800, Residual: 0.0003509845861779015\n",
      "Momentum equation: Iteration 1820, Residual: 0.0003476265963601576\n",
      "Momentum equation: Iteration 1840, Residual: 0.000340560543961586\n",
      "Momentum equation: Iteration 1860, Residual: 0.0003353182731085265\n",
      "Momentum equation: Iteration 1880, Residual: 0.00033307752869872476\n",
      "Momentum equation: Iteration 1900, Residual: 0.0003335258837422195\n",
      "Momentum equation: Iteration 1920, Residual: 0.0003301161774455011\n",
      "Momentum equation: Iteration 1940, Residual: 0.0003216977631965434\n",
      "Momentum equation: Iteration 1960, Residual: 0.00031986728831463057\n",
      "Momentum equation: Iteration 1980, Residual: 0.00031728137255433025\n",
      "Momentum equation: Iteration 2000, Residual: 0.0003120086912713222\n",
      "Momentum equation: Iteration 2020, Residual: 0.0003064576907200467\n",
      "Momentum equation: Iteration 2040, Residual: 0.0003011039534045216\n",
      "Momentum equation: Iteration 2060, Residual: 0.0002967610781881855\n",
      "Momentum equation: Iteration 2080, Residual: 0.0002923863696115553\n",
      "Momentum equation: Iteration 2100, Residual: 0.0002893233283684203\n",
      "Momentum equation: Iteration 2120, Residual: 0.0002845960420377082\n",
      "Momentum equation: Iteration 2140, Residual: 0.00027968579672897967\n",
      "Momentum equation: Iteration 2160, Residual: 0.00028136850479770423\n",
      "Momentum equation: Iteration 2180, Residual: 0.000277224822992278\n",
      "Momentum equation: Iteration 2200, Residual: 0.0002712656105390496\n",
      "Momentum equation: Iteration 2220, Residual: 0.00026951360067247604\n",
      "Momentum equation: Iteration 2240, Residual: 0.000267071400754524\n",
      "Momentum equation: Iteration 2260, Residual: 0.00026601541696360045\n",
      "Momentum equation: Iteration 2280, Residual: 0.00026048450843946074\n",
      "Momentum equation: Iteration 2300, Residual: 0.0002580211120343113\n",
      "Momentum equation: Iteration 2320, Residual: 0.00025267571937161344\n",
      "Momentum equation: Iteration 2340, Residual: 0.0002520046134187432\n",
      "Momentum equation: Iteration 2360, Residual: 0.0002446222977471012\n",
      "Momentum equation: Iteration 2380, Residual: 0.0002444375529285416\n",
      "Momentum equation: Iteration 2400, Residual: 0.00024111070631608125\n",
      "Momentum equation: Iteration 2420, Residual: 0.00023751027155352253\n",
      "Momentum equation: Iteration 2440, Residual: 0.00023489979773954478\n",
      "Momentum equation: Iteration 2460, Residual: 0.0002341806477346095\n",
      "Momentum equation: Iteration 2480, Residual: 0.00023152355677540787\n"
     ]
    },
    {
     "name": "stdout",
     "output_type": "stream",
     "text": [
      "Momentum equation: Iteration 2500, Residual: 0.00022879899205733092\n",
      "Momentum equation: Iteration 2520, Residual: 0.00022497497044076178\n",
      "Momentum equation: Iteration 2540, Residual: 0.00022614308224982657\n",
      "Momentum equation: Iteration 2560, Residual: 0.0002222254724349032\n",
      "Momentum equation: Iteration 2580, Residual: 0.0002218270170660716\n",
      "Momentum equation: Iteration 2600, Residual: 0.00021636208889769942\n",
      "Momentum equation: Iteration 2620, Residual: 0.00021541003599681238\n",
      "Momentum equation: Iteration 2640, Residual: 0.00021154514493165614\n",
      "Momentum equation: Iteration 2660, Residual: 0.0002072663700535156\n",
      "Momentum equation: Iteration 2680, Residual: 0.0002062983738769777\n",
      "Momentum equation: Iteration 2700, Residual: 0.0002029509663596992\n",
      "Momentum equation: Iteration 2720, Residual: 0.00020177155606362386\n",
      "Momentum equation: Iteration 2740, Residual: 0.00019702574715900478\n",
      "Momentum equation: Iteration 2760, Residual: 0.00019681354954600994\n",
      "Momentum equation: Iteration 2780, Residual: 0.00019288068114757875\n",
      "Momentum equation: Iteration 2800, Residual: 0.00019347894633643323\n",
      "Momentum equation: Iteration 2820, Residual: 0.00019214310676833948\n",
      "Momentum equation: Iteration 2840, Residual: 0.00019187586592030528\n",
      "Momentum equation: Iteration 2860, Residual: 0.00019095190185946728\n",
      "Momentum equation: Iteration 2880, Residual: 0.00018927711943688905\n",
      "Momentum equation: Iteration 2900, Residual: 0.00018691572023042322\n",
      "Momentum equation: Iteration 2920, Residual: 0.00018518633319981534\n",
      "Momentum equation: Iteration 2940, Residual: 0.00018401998375820391\n",
      "Momentum equation: Iteration 2960, Residual: 0.00018091906165741516\n",
      "Momentum equation: Iteration 2980, Residual: 0.0001798138948328554\n",
      "Momentum equation: Iteration 3000, Residual: 0.00017694596282700125\n",
      "Momentum equation: Iteration 3020, Residual: 0.00017433870819169562\n",
      "Momentum equation: Iteration 3040, Residual: 0.00017192489508908743\n",
      "Momentum equation: Iteration 3060, Residual: 0.00016983571682108265\n",
      "Momentum equation: Iteration 3080, Residual: 0.00016692771345707888\n",
      "Momentum equation: Iteration 3100, Residual: 0.00016602720979048968\n",
      "Momentum equation: Iteration 3120, Residual: 0.0001627785464592968\n",
      "Momentum equation: Iteration 3140, Residual: 0.00016207025814886714\n",
      "Momentum equation: Iteration 3160, Residual: 0.0001601264849698178\n",
      "Momentum equation: Iteration 3180, Residual: 0.00015762676377205354\n",
      "Momentum equation: Iteration 3200, Residual: 0.00015853656090293253\n",
      "Momentum equation: Iteration 3220, Residual: 0.00015723449783455745\n",
      "Momentum equation: Iteration 3240, Residual: 0.0001553945025259615\n",
      "Momentum equation: Iteration 3260, Residual: 0.00015685420291130375\n",
      "Momentum equation: Iteration 3280, Residual: 0.00015399806743269726\n",
      "Momentum equation: Iteration 3300, Residual: 0.0001524224724013777\n",
      "Momentum equation: Iteration 3320, Residual: 0.00015321541122882004\n",
      "Momentum equation: Iteration 3340, Residual: 0.00014880702437602977\n",
      "Momentum equation: Iteration 3360, Residual: 0.00014841943195409782\n",
      "Momentum equation: Iteration 3380, Residual: 0.00014620828213927559\n",
      "Momentum equation: Iteration 3400, Residual: 0.00014498860238567994\n",
      "Momentum equation: Iteration 3420, Residual: 0.00014299875982055205\n",
      "Momentum equation: Iteration 3440, Residual: 0.00014184227409000383\n",
      "Momentum equation: Iteration 3460, Residual: 0.00013971980201051785\n",
      "Momentum equation: Iteration 3480, Residual: 0.00013839679007825352\n",
      "Momentum equation: Iteration 3500, Residual: 0.0001365380889625234\n",
      "Momentum equation: Iteration 3520, Residual: 0.00013645733568745655\n",
      "Momentum equation: Iteration 3540, Residual: 0.00013392521206734287\n",
      "Momentum equation: Iteration 3560, Residual: 0.0001352179217388727\n",
      "Momentum equation: Iteration 3580, Residual: 0.00013137025462073293\n",
      "Momentum equation: Iteration 3600, Residual: 0.0001302356503024571\n",
      "Momentum equation: Iteration 3620, Residual: 0.00012853668472012636\n",
      "Momentum equation: Iteration 3640, Residual: 0.0001292235617394999\n",
      "Momentum equation: Iteration 3660, Residual: 0.00012833594186234532\n",
      "Momentum equation: Iteration 3680, Residual: 0.00012710188244424714\n",
      "Momentum equation: Iteration 3700, Residual: 0.0001263538672831889\n",
      "Momentum equation: Iteration 3720, Residual: 0.00012570796190269906\n",
      "Momentum equation: Iteration 3740, Residual: 0.00012424390544953784\n",
      "Momentum equation: Iteration 3760, Residual: 0.00012279256699321284\n",
      "Momentum equation: Iteration 3780, Residual: 0.0001222167206892076\n",
      "Momentum equation: Iteration 3800, Residual: 0.00012016406567345178\n",
      "Momentum equation: Iteration 3820, Residual: 0.00011901822011972651\n",
      "Momentum equation: Iteration 3840, Residual: 0.00011795515143508961\n",
      "Momentum equation: Iteration 3860, Residual: 0.00011860791173334828\n",
      "Momentum equation: Iteration 3880, Residual: 0.00011615295461219356\n",
      "Momentum equation: Iteration 3900, Residual: 0.00011605364834188503\n",
      "Momentum equation: Iteration 3920, Residual: 0.00011394440961842722\n",
      "Momentum equation: Iteration 3940, Residual: 0.00011296320146148009\n",
      "Momentum equation: Iteration 3960, Residual: 0.00011460933494933379\n",
      "Momentum equation: Iteration 3980, Residual: 0.00011264881642647495\n",
      "Momentum equation: Iteration 4000, Residual: 0.00010899595652025251\n",
      "Momentum equation: Iteration 4020, Residual: 0.00010861391088978767\n",
      "Momentum equation: Iteration 4040, Residual: 0.00010883912356918213\n",
      "Momentum equation: Iteration 4060, Residual: 0.00010835236584516572\n",
      "Momentum equation: Iteration 4080, Residual: 0.0001055804493625967\n",
      "Momentum equation: Iteration 4100, Residual: 0.000105112024403331\n",
      "Momentum equation: Iteration 4120, Residual: 0.00010505752094347454\n"
     ]
    },
    {
     "ename": "KeyboardInterrupt",
     "evalue": "",
     "output_type": "error",
     "traceback": [
      "\u001b[1;31m---------------------------------------------------------------------------\u001b[0m",
      "\u001b[1;31mKeyboardInterrupt\u001b[0m                         Traceback (most recent call last)",
      "\u001b[1;32m<ipython-input-17-93ceaa5e8cab>\u001b[0m in \u001b[0;36m<module>\u001b[1;34m\u001b[0m\n\u001b[0;32m     26\u001b[0m \u001b[1;33m\u001b[0m\u001b[0m\n\u001b[0;32m     27\u001b[0m     \u001b[1;31m#Solve poisson-equation for pressure\u001b[0m\u001b[1;33m\u001b[0m\u001b[1;33m\u001b[0m\u001b[1;33m\u001b[0m\u001b[0m\n\u001b[1;32m---> 28\u001b[1;33m     \u001b[0mp_n\u001b[0m \u001b[1;33m=\u001b[0m \u001b[0mfunc_ADI\u001b[0m\u001b[1;33m(\u001b[0m\u001b[0mp_init\u001b[0m\u001b[1;33m,\u001b[0m\u001b[0muStar\u001b[0m\u001b[1;33m,\u001b[0m\u001b[0mvStar\u001b[0m\u001b[1;33m)\u001b[0m\u001b[1;33m\u001b[0m\u001b[1;33m\u001b[0m\u001b[0m\n\u001b[0m\u001b[0;32m     29\u001b[0m \u001b[1;33m\u001b[0m\u001b[0m\n\u001b[0;32m     30\u001b[0m     \u001b[1;31m#Correct the velocities\u001b[0m\u001b[1;33m\u001b[0m\u001b[1;33m\u001b[0m\u001b[1;33m\u001b[0m\u001b[0m\n",
      "\u001b[1;31mKeyboardInterrupt\u001b[0m: "
     ]
    }
   ],
   "source": [
    "converged_mom = False\n",
    "iteration_mom = 0\n",
    "start_time = time.time()\n",
    "while(not converged_mom):\n",
    "    iteration_mom+=1\n",
    "    \n",
    "    #Calcualte uStar\n",
    "    uStar = func_uStar(u_init,v_init)\n",
    "\n",
    "    #Calculate vStar\n",
    "    vStar = func_vStar(u_init,v_init)\n",
    "\n",
    "    #Applying BC for u at the right face i.e. at the outflow boundary\n",
    "    uStar[:,-1] = uStar[:,-2]\n",
    "\n",
    "    #Adjusting for flow rate imbalance between inlet and outlet\n",
    "    area_inlet = (Ny-1-loc_inlet)*delY\n",
    "    flow_rate_inlet = np.sum(uStar[loc_inlet:,0])*delY #non-dimensional\n",
    "    flow_rate_outlet = np.sum(uStar[:,-1])*delY\n",
    "\n",
    "    flow_rate_imbalance = flow_rate_outlet - flow_rate_inlet\n",
    "\n",
    "    u_corr = flow_rate_imbalance/((Ny-1)*delY)\n",
    "\n",
    "    uStar[:,-1] = uStar[:,-1] - u_corr\n",
    "\n",
    "    #Solve poisson-equation for pressure\n",
    "    p_n = func_ADI(p_init,uStar,vStar)\n",
    "\n",
    "    #Correct the velocities\n",
    "    u_np1,v_np1 = func_u_v_update(uStar,vStar,p_n)\n",
    "\n",
    "    du = np.abs(u_np1 - u_init).max()\n",
    "    dv = np.abs(v_np1 - v_init).max()\n",
    "    \n",
    "    max_res = max(du,dv)\n",
    "    if(max_res<1e-5):\n",
    "        print(f\"Momentum equation converged in {iteration_mom} iteration\")\n",
    "        converged_mom = True\n",
    "    else:\n",
    "        if(iteration_mom%20 == 0):\n",
    "            print(f\"Momentum equation: Iteration {iteration_mom}, Residual: {max_res}\")\n",
    "        u_init = np.copy(u_np1)\n",
    "        v_init = np.copy(v_np1)\n",
    "\n",
    "end_time = time.time()"
   ]
  },
  {
   "cell_type": "code",
   "execution_count": null,
   "metadata": {},
   "outputs": [],
   "source": [
    "elasped_time = end_time-start_time"
   ]
  },
  {
   "cell_type": "code",
   "execution_count": 14,
   "metadata": {},
   "outputs": [
    {
     "data": {
      "text/plain": [
       "<matplotlib.colorbar.Colorbar at 0x29b06a529a0>"
      ]
     },
     "execution_count": 14,
     "metadata": {},
     "output_type": "execute_result"
    },
    {
     "data": {
      "image/png": "[encoded data removed]",
      "text/plain": [
       "<Figure size 1440x144 with 2 Axes>"
      ]
     },
     "metadata": {
      "needs_background": "light"
     },
     "output_type": "display_data"
    }
   ],
   "source": [
    "# X, Y = np.meshgrid(x_grid, y_grid, indexing='ij')\n",
    "plt.figure(figsize=[20,2])\n",
    "plt.pcolormesh(x_grid,y_grid,u_np1,cmap=\"coolwarm\")\n",
    "plt.colorbar()"
   ]
  },
  {
   "cell_type": "code",
   "execution_count": 15,
   "metadata": {},
   "outputs": [
    {
     "data": {
      "text/plain": [
       "(101, 101)"
      ]
     },
     "execution_count": 15,
     "metadata": {},
     "output_type": "execute_result"
    }
   ],
   "source": [
    "Nx,Ny"
   ]
  },
  {
   "cell_type": "code",
   "execution_count": 16,
   "metadata": {},
   "outputs": [
    {
     "data": {
      "text/plain": [
       "0.006666666666666667"
      ]
     },
     "execution_count": 16,
     "metadata": {},
     "output_type": "execute_result"
    }
   ],
   "source": [
    "delT"
   ]
  },
  {
   "cell_type": "code",
   "execution_count": 17,
   "metadata": {},
   "outputs": [],
   "source": [
    "def interpolate_to_Nodes(u_val,v_val):\n",
    "    u_Node = np.zeros((Ny,Nx))\n",
    "    v_Node = np.zeros_like(u_Node)\n",
    "    \n",
    "    for i in range(0,Nx-1):\n",
    "        for j in range(1,Ny-1):\n",
    "            u_Node[j,i] = 0.5*(u_val[j,i]+u_val[j-1,i])\n",
    "    for i in range(1,Nx-1):\n",
    "        for j in range(1,Ny-1):\n",
    "            v_Node[j,i] = 0.5*(v_val[j,i]+v_val[j,i-1])\n",
    "    \n",
    "    #right boundary value based on fully developed flow assumption\n",
    "    u_Node[:,-1] = u_Node[:,-2]\n",
    "    v_Node[:,-1] = v_Node[:,-2]\n",
    "    \n",
    "    return u_Node, v_Node\n",
    "    \n",
    "    "
   ]
  },
  {
   "cell_type": "code",
   "execution_count": 18,
   "metadata": {},
   "outputs": [],
   "source": [
    "u_node, v_node = interpolate_to_Nodes(u_np1,v_np1)"
   ]
  },
  {
   "cell_type": "code",
   "execution_count": 19,
   "metadata": {},
   "outputs": [
    {
     "data": {
      "text/plain": [
       "<matplotlib.colorbar.Colorbar at 0x29b07ca2ee0>"
      ]
     },
     "execution_count": 19,
     "metadata": {},
     "output_type": "execute_result"
    },
    {
     "data": {
      "image/png": "[encoded data removed]",
      "text/plain": [
       "<Figure size 1440x144 with 2 Axes>"
      ]
     },
     "metadata": {
      "needs_background": "light"
     },
     "output_type": "display_data"
    }
   ],
   "source": [
    "plt.figure(figsize=[20,2])\n",
    "plt.pcolormesh(x_grid,y_grid,u_node,cmap=\"coolwarm\")\n",
    "plt.colorbar()"
   ]
  },
  {
   "cell_type": "code",
   "execution_count": 20,
   "metadata": {},
   "outputs": [
    {
     "data": {
      "text/plain": [
       "'E:\\\\TAMU\\\\Spring_25\\\\MEEN_644\\\\Homeworks\\\\Finals\\\\strict_conv.vtr'"
      ]
     },
     "execution_count": 20,
     "metadata": {},
     "output_type": "execute_result"
    }
   ],
   "source": [
    "\n",
    "z_grid = np.array([0.0, 0.1])\n",
    "u_vtk = np.zeros((Nx, Ny, 2))  # VTK ordering (x,y,z)\n",
    "v_vtk = np.zeros((Nx, Ny, 2))\n",
    "\n",
    "for k in range(2):  # Both z-layers get the same 2D data\n",
    "    u_vtk[:, :, k] = u_node.T # The x and y axis are transposed between numpy and paraview\n",
    "    v_vtk[:, :, k] = v_node.T\n",
    "\n",
    "\n",
    "evtk.hl.gridToVTK(\"./strict_conv\",x=x_grid,y=y_grid,z=np.zeros(1),pointData={\"Ux\":u_vtk,\"Uy\":v_vtk})\n"
   ]
  },
  {
   "cell_type": "code",
   "execution_count": 57,
   "metadata": {},
   "outputs": [
    {
     "data": {
      "text/plain": [
       "(101, 101)"
      ]
     },
     "execution_count": 57,
     "metadata": {},
     "output_type": "execute_result"
    }
   ],
   "source": [
    "Nx,Ny"
   ]
  },
  {
   "cell_type": "code",
   "execution_count": null,
   "metadata": {},
   "outputs": [],
   "source": []
  }
 ],
 "metadata": {
  "kernelspec": {
   "display_name": "Python 3",
   "language": "python",
   "name": "python3"
  },
  "language_info": {
   "codemirror_mode": {
    "name": "ipython",
    "version": 3
   },
   "file_extension": ".py",
   "mimetype": "text/x-python",
   "name": "python",
   "nbconvert_exporter": "python",
   "pygments_lexer": "ipython3",
   "version": "3.8.3"
  }
 },
 "nbformat": 4,
 "nbformat_minor": 4
}
